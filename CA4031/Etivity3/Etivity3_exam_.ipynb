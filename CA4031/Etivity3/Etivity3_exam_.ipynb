{
 "cells": [
  {
   "cell_type": "code",
   "metadata": {
    "ExecuteTime": {
     "end_time": "2024-12-09T20:35:22.125977Z",
     "start_time": "2024-12-09T20:35:07.101792Z"
    }
   },
   "source": [
    "import numpy as np\n",
    "import matplotlib.pyplot as plt\n",
    "import matplotlib.image as mpimg\n",
    "import imageio\n",
    "import PIL # actually from the 'pillow' package\n",
    "\n",
    "from tensorflow.keras.models import Sequential\n",
    "from tensorflow.keras.layers import Input, Conv2D, SeparableConv2D, MaxPooling2D, Flatten, Dense, Rescaling, Dropout, BatchNormalization, LeakyReLU, Activation, LayerNormalization, GaussianNoise\n",
    "from tensorflow.keras.utils import image_dataset_from_directory, load_img\n",
    "from tensorflow.keras.models import load_model\n",
    "import os\n",
    "\n",
    "# changes added by moi for task 5 is not over fitted\n",
    "from tensorflow.keras.optimizers import Adam\n",
    "from tensorflow.keras.callbacks import ReduceLROnPlateau, LearningRateScheduler, EarlyStopping, ModelCheckpoint\n",
    "from tensorflow.python.data.experimental.ops.distribute import batch_sizes_for_worker\n",
    "import tensorflow as tf\n",
    "from tensorflow import data as tf_data\n"
   ],
   "outputs": [],
   "execution_count": 1
  },
  {
   "cell_type": "code",
   "metadata": {
    "ExecuteTime": {
     "end_time": "2024-12-08T19:38:40.744478Z",
     "start_time": "2024-12-08T19:38:40.723478Z"
    }
   },
   "source": [
    "import tensorflow as tf\n",
    "print(tf.__version__)\n",
    "print(tf.keras.backend)"
   ],
   "outputs": [
    {
     "name": "stdout",
     "output_type": "stream",
     "text": [
      "2.14.1\n",
      "<module 'keras.api._v2.keras.backend' from 'C:\\\\Users\\\\jorgeblx\\\\AppData\\\\Local\\\\Packages\\\\PythonSoftwareFoundation.Python.3.10_qbz5n2kfra8p0\\\\LocalCache\\\\local-packages\\\\Python310\\\\site-packages\\\\keras\\\\api\\\\_v2\\\\keras\\\\backend\\\\__init__.py'>\n"
     ]
    }
   ],
   "execution_count": 2
  },
  {
   "metadata": {
    "ExecuteTime": {
     "end_time": "2024-12-09T20:50:29.130633Z",
     "start_time": "2024-12-09T20:50:29.034953Z"
    }
   },
   "cell_type": "code",
   "source": [
    "from keras.models import Sequential\n",
    "from keras.layers import Dense, Conv2D, Flatten, MaxPooling2D\n",
    "\n",
    "#create model\n",
    "model = Sequential()\n",
    "\n",
    "#add model layers\n",
    "\n",
    "# input_shape is declared once and all the layers use it, so we need to change to make sure all the layers use the same user input\n",
    "\n",
    "# the input shape has to be declared in a separate layer , current code is old school , will leave it in its location\n",
    "model.add(Conv2D(64, kernel_size=3, activation='relu', input_shape=(28,28,3)))\n",
    "model.add(Conv2D(32, kernel_size=3, activation='relu',input_shape=(28,28,3)))\n",
    "\n",
    "# MaxPooling2D had a missing \"(\"\n",
    "model.add(MaxPooling2D(pool_size=(2,2), strides=1, input_shape=(28,28,3)))\n",
    "\n",
    "# we have to flatten the data to go in to a one dimensional array , it is a must\n",
    "model.add(Flatten())\n",
    "\n",
    "model.add(Dense(5, activation='softmax'))"
   ],
   "outputs": [],
   "execution_count": 10
  }
 ],
 "metadata": {
  "kernelspec": {
   "display_name": "Python 3 (ipykernel)",
   "language": "python",
   "name": "python3"
  },
  "language_info": {
   "codemirror_mode": {
    "name": "ipython",
    "version": 3
   },
   "file_extension": ".py",
   "mimetype": "text/x-python",
   "name": "python",
   "nbconvert_exporter": "python",
   "pygments_lexer": "ipython3",
   "version": "3.9.17"
  },
  "latex_envs": {
   "LaTeX_envs_menu_present": true,
   "autoclose": false,
   "autocomplete": true,
   "bibliofile": "biblio.bib",
   "cite_by": "apalike",
   "current_citInitial": 1,
   "eqLabelWithNumbers": true,
   "eqNumInitial": 1,
   "hotkeys": {
    "equation": "Ctrl-E",
    "itemize": "Ctrl-I"
   },
   "labels_anchors": false,
   "latex_user_defs": false,
   "report_style_numbering": false,
   "user_envs_cfg": false
  }
 },
 "nbformat": 4,
 "nbformat_minor": 2
}
