{
 "cells": [
  {
   "metadata": {},
   "cell_type": "code",
   "source": [
    "import pandas as pd\n",
    "import numpy as np\n",
    "import matplotlib.pyplot as plt\n",
    "import seaborn as sns\n",
    "from sklearn.ensemble import RandomForestClassifier\n",
    "from sklearn.model_selection import train_test_split\n",
    "from scipy.stats import kurtosis, skew\n",
    "from sklearn.impute import KNNImputer\n",
    "from sklearn.preprocessing import OneHotEncoder, RobustScaler, MinMaxScaler, OrdinalEncoder, LabelEncoder\n",
    "\n",
    "%matplotlib inline\n"
   ],
   "id": "17704563b732de9c",
   "outputs": [],
   "execution_count": null
  },
  {
   "metadata": {
    "ExecuteTime": {
     "end_time": "2025-03-31T21:08:01.484406Z",
     "start_time": "2025-03-31T21:08:01.454245Z"
    }
   },
   "cell_type": "code",
   "source": [
    "df = pd.read_csv('./bank_test.csv')\n",
    "# average yearly balance\t- balance\n",
    "# housing / loan - type of loans\n",
    "#\n",
    "# default - has credit in default\n",
    "#\n",
    "# day / month - last contact day / month\n",
    "# campaign - number of times user contacted during this campaign\n",
    "#\n",
    "# pdays (number of days passed after last campaign contact - if -1 previously not contacted)\n",
    "#\n",
    "# previous - number of times contacted during previous campaign\n",
    "# poutcome - previous marketing campaign outcome\n",
    "#\n",
    "# result (subscribed)  -  if duration is zerp == no"
   ],
   "id": "b79e6cfca706a58e",
   "outputs": [],
   "execution_count": 2
  },
  {
   "metadata": {
    "ExecuteTime": {
     "end_time": "2025-03-31T21:08:26.221094Z",
     "start_time": "2025-03-31T21:08:26.182205Z"
    }
   },
   "cell_type": "code",
   "source": "df.head(10)",
   "id": "a988bc658cf45a3e",
   "outputs": [
    {
     "data": {
      "text/plain": [
       "    age            job  education  balance loan   contact subscribed\n",
       "0  32.0     technician   tertiary      392   no  cellular         no\n",
       "1  39.0     technician  secondary      688  yes  cellular         no\n",
       "2  59.0        retired  secondary     1035  yes  cellular         no\n",
       "3  47.0    blue-collar  secondary      398  yes  cellular         no\n",
       "4  54.0        retired  secondary     1004   no  cellular         no\n",
       "5  46.0  self-employed   tertiary      926   no  cellular         no\n",
       "6  34.0    blue-collar  secondary     1924  yes  cellular         no\n",
       "7  45.0       services  secondary      396  yes  cellular         no\n",
       "8  58.0     management   tertiary      315   no  cellular         no\n",
       "9  49.0     management   tertiary    20727   no  cellular         no"
      ],
      "text/html": [
       "<div>\n",
       "<style scoped>\n",
       "    .dataframe tbody tr th:only-of-type {\n",
       "        vertical-align: middle;\n",
       "    }\n",
       "\n",
       "    .dataframe tbody tr th {\n",
       "        vertical-align: top;\n",
       "    }\n",
       "\n",
       "    .dataframe thead th {\n",
       "        text-align: right;\n",
       "    }\n",
       "</style>\n",
       "<table border=\"1\" class=\"dataframe\">\n",
       "  <thead>\n",
       "    <tr style=\"text-align: right;\">\n",
       "      <th></th>\n",
       "      <th>age</th>\n",
       "      <th>job</th>\n",
       "      <th>education</th>\n",
       "      <th>balance</th>\n",
       "      <th>loan</th>\n",
       "      <th>contact</th>\n",
       "      <th>subscribed</th>\n",
       "    </tr>\n",
       "  </thead>\n",
       "  <tbody>\n",
       "    <tr>\n",
       "      <th>0</th>\n",
       "      <td>32.0</td>\n",
       "      <td>technician</td>\n",
       "      <td>tertiary</td>\n",
       "      <td>392</td>\n",
       "      <td>no</td>\n",
       "      <td>cellular</td>\n",
       "      <td>no</td>\n",
       "    </tr>\n",
       "    <tr>\n",
       "      <th>1</th>\n",
       "      <td>39.0</td>\n",
       "      <td>technician</td>\n",
       "      <td>secondary</td>\n",
       "      <td>688</td>\n",
       "      <td>yes</td>\n",
       "      <td>cellular</td>\n",
       "      <td>no</td>\n",
       "    </tr>\n",
       "    <tr>\n",
       "      <th>2</th>\n",
       "      <td>59.0</td>\n",
       "      <td>retired</td>\n",
       "      <td>secondary</td>\n",
       "      <td>1035</td>\n",
       "      <td>yes</td>\n",
       "      <td>cellular</td>\n",
       "      <td>no</td>\n",
       "    </tr>\n",
       "    <tr>\n",
       "      <th>3</th>\n",
       "      <td>47.0</td>\n",
       "      <td>blue-collar</td>\n",
       "      <td>secondary</td>\n",
       "      <td>398</td>\n",
       "      <td>yes</td>\n",
       "      <td>cellular</td>\n",
       "      <td>no</td>\n",
       "    </tr>\n",
       "    <tr>\n",
       "      <th>4</th>\n",
       "      <td>54.0</td>\n",
       "      <td>retired</td>\n",
       "      <td>secondary</td>\n",
       "      <td>1004</td>\n",
       "      <td>no</td>\n",
       "      <td>cellular</td>\n",
       "      <td>no</td>\n",
       "    </tr>\n",
       "    <tr>\n",
       "      <th>5</th>\n",
       "      <td>46.0</td>\n",
       "      <td>self-employed</td>\n",
       "      <td>tertiary</td>\n",
       "      <td>926</td>\n",
       "      <td>no</td>\n",
       "      <td>cellular</td>\n",
       "      <td>no</td>\n",
       "    </tr>\n",
       "    <tr>\n",
       "      <th>6</th>\n",
       "      <td>34.0</td>\n",
       "      <td>blue-collar</td>\n",
       "      <td>secondary</td>\n",
       "      <td>1924</td>\n",
       "      <td>yes</td>\n",
       "      <td>cellular</td>\n",
       "      <td>no</td>\n",
       "    </tr>\n",
       "    <tr>\n",
       "      <th>7</th>\n",
       "      <td>45.0</td>\n",
       "      <td>services</td>\n",
       "      <td>secondary</td>\n",
       "      <td>396</td>\n",
       "      <td>yes</td>\n",
       "      <td>cellular</td>\n",
       "      <td>no</td>\n",
       "    </tr>\n",
       "    <tr>\n",
       "      <th>8</th>\n",
       "      <td>58.0</td>\n",
       "      <td>management</td>\n",
       "      <td>tertiary</td>\n",
       "      <td>315</td>\n",
       "      <td>no</td>\n",
       "      <td>cellular</td>\n",
       "      <td>no</td>\n",
       "    </tr>\n",
       "    <tr>\n",
       "      <th>9</th>\n",
       "      <td>49.0</td>\n",
       "      <td>management</td>\n",
       "      <td>tertiary</td>\n",
       "      <td>20727</td>\n",
       "      <td>no</td>\n",
       "      <td>cellular</td>\n",
       "      <td>no</td>\n",
       "    </tr>\n",
       "  </tbody>\n",
       "</table>\n",
       "</div>"
      ]
     },
     "execution_count": 3,
     "metadata": {},
     "output_type": "execute_result"
    }
   ],
   "execution_count": 3
  },
  {
   "metadata": {
    "ExecuteTime": {
     "end_time": "2025-03-31T21:12:19.528126Z",
     "start_time": "2025-03-31T21:12:19.302573Z"
    }
   },
   "cell_type": "code",
   "source": [
    "df = pd.DataFrame(df)\n",
    "\n",
    "# Create a histogram for the 'age' column\n",
    "plt.hist(df['age'], bins=10)\n",
    "plt.show()\n"
   ],
   "id": "b1db1b6555bdf96a",
   "outputs": [
    {
     "data": {
      "text/plain": [
       "<Figure size 640x480 with 1 Axes>"
      ],
      "image/png": "[encoded data removed]"
     },
     "metadata": {},
     "output_type": "display_data"
    }
   ],
   "execution_count": 6
  },
  {
   "metadata": {
    "ExecuteTime": {
     "end_time": "2025-03-31T21:12:24.830572Z",
     "start_time": "2025-03-31T21:12:24.797375Z"
    }
   },
   "cell_type": "code",
   "source": [
    "\n",
    "missing_values_count = df.isnull().sum()\n",
    "missing_percentage = (missing_values_count / len(df)) * 100\n",
    "\n",
    "missing_data_summary = pd.DataFrame({\n",
    "    'Missing Count': missing_values_count,\n",
    "    'Missing % Total': missing_percentage\n",
    "})\n",
    "\n",
    "missing_data_summary = missing_data_summary[missing_data_summary['Missing Count'] > 0]\n",
    "\n",
    "print(missing_data_summary)"
   ],
   "id": "e58dbb83d9a6bad1",
   "outputs": [
    {
     "name": "stdout",
     "output_type": "stream",
     "text": [
      "           Missing Count  Missing % Total\n",
      "age                    5              0.5\n",
      "job                    4              0.4\n",
      "education             50              5.0\n",
      "contact               14              1.4\n"
     ]
    }
   ],
   "execution_count": 7
  },
  {
   "metadata": {
    "ExecuteTime": {
     "end_time": "2025-03-31T21:19:20.205048Z",
     "start_time": "2025-03-31T21:19:20.187214Z"
    }
   },
   "cell_type": "code",
   "source": [
    "value = df[df['balance'] > 20000]\n",
    "print(value)\n"
   ],
   "id": "e646dfd9474ebe8d",
   "outputs": [
    {
     "name": "stdout",
     "output_type": "stream",
     "text": [
      "      age         job education  balance loan   contact subscribed\n",
      "9    49.0  management  tertiary    20727   no  cellular         no\n",
      "498  54.0  management  tertiary    26306   no  cellular         no\n",
      "582  42.0  management  tertiary    27696   no  cellular        yes\n",
      "792  45.0  management  tertiary    31472   no  cellular        yes\n",
      "841  74.0     retired   primary    29080   no  cellular        yes\n",
      "921  77.0     retired   primary    29340   no  cellular        yes\n"
     ]
    }
   ],
   "execution_count": 11
  },
  {
   "metadata": {
    "ExecuteTime": {
     "end_time": "2025-03-31T21:26:39.043828Z",
     "start_time": "2025-03-31T21:26:39.022919Z"
    }
   },
   "cell_type": "code",
   "source": [
    "tertiary_count = df[df['education'] == 'tertiary'].shape[0]\n",
    "\n",
    "total_count = df.shape[0]\n",
    "print((tertiary_count / total_count) * 100 )\n"
   ],
   "id": "8bcee67f58563f33",
   "outputs": [
    {
     "name": "stdout",
     "output_type": "stream",
     "text": [
      "32.300000000000004\n"
     ]
    }
   ],
   "execution_count": 16
  },
  {
   "metadata": {
    "ExecuteTime": {
     "end_time": "2025-03-31T21:32:46.416977Z",
     "start_time": "2025-03-31T21:32:46.403268Z"
    }
   },
   "cell_type": "code",
   "source": [
    "tertiary_count = df[df['job'] == 'services'].shape[0]\n",
    "\n",
    "total_count = df.shape[0]\n",
    "print((tertiary_count / total_count) * 100)"
   ],
   "id": "b94685221731c445",
   "outputs": [
    {
     "name": "stdout",
     "output_type": "stream",
     "text": [
      "8.7\n"
     ]
    }
   ],
   "execution_count": 22
  },
  {
   "metadata": {
    "ExecuteTime": {
     "end_time": "2025-03-31T21:39:24.745346Z",
     "start_time": "2025-03-31T21:39:24.613926Z"
    }
   },
   "cell_type": "code",
   "source": [
    "\n",
    "\n",
    "# Calculate the count of each education category\n",
    "education_counts = df['education'].value_counts()\n",
    "\n",
    "# Calculate the total count\n",
    "total_count = df.shape[0]\n",
    "\n",
    "# Calculate the percentage of each education category over the total count\n",
    "education_percentages = (education_counts / total_count) * 100\n",
    "\n",
    "# Visualize the percentages in a pie chart\n",
    "plt.figure(figsize=(8, 6))\n",
    "plt.pie(education_percentages, labels=education_percentages.index, autopct='%1.1f%%', startangle=140)\n",
    "plt.title('Percentage of Each Education Category')\n",
    "plt.show()\n",
    "\n",
    "\n"
   ],
   "id": "eeefd47c2b387b7e",
   "outputs": [
    {
     "data": {
      "text/plain": [
       "<Figure size 800x600 with 1 Axes>"
      ],
      "image/png": "[encoded data removed]"
     },
     "metadata": {},
     "output_type": "display_data"
    }
   ],
   "execution_count": 25
  },
  {
   "metadata": {
    "ExecuteTime": {
     "end_time": "2025-03-31T21:28:16.523973Z",
     "start_time": "2025-03-31T21:28:16.482190Z"
    }
   },
   "cell_type": "code",
   "source": "df.describe()",
   "id": "596f150a0ad9a170",
   "outputs": [
    {
     "data": {
      "text/plain": [
       "              age      balance\n",
       "count  995.000000   1000.00000\n",
       "mean    42.059296   1437.51300\n",
       "std     12.555130   2815.60663\n",
       "min     19.000000   -980.00000\n",
       "25%     33.000000    226.75000\n",
       "50%     39.000000    562.00000\n",
       "75%     50.000000   1724.00000\n",
       "max     93.000000  31472.00000"
      ],
      "text/html": [
       "<div>\n",
       "<style scoped>\n",
       "    .dataframe tbody tr th:only-of-type {\n",
       "        vertical-align: middle;\n",
       "    }\n",
       "\n",
       "    .dataframe tbody tr th {\n",
       "        vertical-align: top;\n",
       "    }\n",
       "\n",
       "    .dataframe thead th {\n",
       "        text-align: right;\n",
       "    }\n",
       "</style>\n",
       "<table border=\"1\" class=\"dataframe\">\n",
       "  <thead>\n",
       "    <tr style=\"text-align: right;\">\n",
       "      <th></th>\n",
       "      <th>age</th>\n",
       "      <th>balance</th>\n",
       "    </tr>\n",
       "  </thead>\n",
       "  <tbody>\n",
       "    <tr>\n",
       "      <th>count</th>\n",
       "      <td>995.000000</td>\n",
       "      <td>1000.00000</td>\n",
       "    </tr>\n",
       "    <tr>\n",
       "      <th>mean</th>\n",
       "      <td>42.059296</td>\n",
       "      <td>1437.51300</td>\n",
       "    </tr>\n",
       "    <tr>\n",
       "      <th>std</th>\n",
       "      <td>12.555130</td>\n",
       "      <td>2815.60663</td>\n",
       "    </tr>\n",
       "    <tr>\n",
       "      <th>min</th>\n",
       "      <td>19.000000</td>\n",
       "      <td>-980.00000</td>\n",
       "    </tr>\n",
       "    <tr>\n",
       "      <th>25%</th>\n",
       "      <td>33.000000</td>\n",
       "      <td>226.75000</td>\n",
       "    </tr>\n",
       "    <tr>\n",
       "      <th>50%</th>\n",
       "      <td>39.000000</td>\n",
       "      <td>562.00000</td>\n",
       "    </tr>\n",
       "    <tr>\n",
       "      <th>75%</th>\n",
       "      <td>50.000000</td>\n",
       "      <td>1724.00000</td>\n",
       "    </tr>\n",
       "    <tr>\n",
       "      <th>max</th>\n",
       "      <td>93.000000</td>\n",
       "      <td>31472.00000</td>\n",
       "    </tr>\n",
       "  </tbody>\n",
       "</table>\n",
       "</div>"
      ]
     },
     "execution_count": 17,
     "metadata": {},
     "output_type": "execute_result"
    }
   ],
   "execution_count": 17
  },
  {
   "metadata": {
    "ExecuteTime": {
     "end_time": "2025-03-31T21:41:52.010036Z",
     "start_time": "2025-03-31T21:41:51.987441Z"
    }
   },
   "cell_type": "code",
   "source": [
    "mean_value = df['balance'].mean()\n",
    "print(mean_value)"
   ],
   "id": "a5f002e04d1b80b7",
   "outputs": [
    {
     "name": "stdout",
     "output_type": "stream",
     "text": [
      "1437.513\n"
     ]
    }
   ],
   "execution_count": 28
  },
  {
   "metadata": {},
   "cell_type": "markdown",
   "source": "#",
   "id": "f3663c42bdaee9cc"
  }
 ],
 "metadata": {
  "kernelspec": {
   "display_name": "Python 3",
   "language": "python",
   "name": "python3"
  },
  "language_info": {
   "codemirror_mode": {
    "name": "ipython",
    "version": 2
   },
   "file_extension": ".py",
   "mimetype": "text/x-python",
   "name": "python",
   "nbconvert_exporter": "python",
   "pygments_lexer": "ipython2",
   "version": "2.7.6"
  }
 },
 "nbformat": 4,
 "nbformat_minor": 5
}
