{
 "cells": [
  {
   "cell_type": "code",
   "execution_count": null,
   "id": "initial_id",
   "metadata": {
    "collapsed": true
   },
   "outputs": [],
   "source": [
    "# -*- encoding: utf-8 -*-\n",
    "# Test environment: Python 3.6\n",
    "\n",
    "import socket\n",
    "import sys\n",
    "\n",
    "# In direct connection mode, the default IP address of the robot is 192.168.2.1 and the control command port is port 40923.\n",
    "host = \"192.168.2.1\"\n",
    "port = 40923\n",
    "\n",
    "def main():\n",
    "\n",
    "        address = (host, int(port))\n",
    "\n",
    "        # Establish a TCP connection with the control command port of the robot.\n",
    "        s = socket.socket(socket.AF_INET, socket.SOCK_STREAM)\n",
    "\n",
    "        print(\"Connecting...\")\n",
    "\n",
    "        s.connect(address)\n",
    "\n",
    "        print(\"Connected!\")\n",
    "\n",
    "        while True:\n",
    "\n",
    "                # Wait for the user to enter control commands.\n",
    "                msg = input(\">>> please input SDK cmd: \")\n",
    "\n",
    "                # When the user enters Q or q, exit the current program.\n",
    "                if msg.upper() == 'Q':\n",
    "                        break\n",
    "\n",
    "                # Add the ending character.\n",
    "                msg += ';'\n",
    "\n",
    "                # Send control commands to the robot.\n",
    "                s.send(msg.encode('utf-8'))\n",
    "\n",
    "                try:\n",
    "                        # Wait for the robot to return the execution result.\n",
    "                        buf = s.recv(1024)\n",
    "\n",
    "                        print(buf.decode('utf-8'))\n",
    "                except socket.error as e:\n",
    "                        print(\"Error receiving :\", e)\n",
    "                        sys.exit(1)\n",
    "                if not len(buf):\n",
    "                        break\n",
    "\n",
    "        # Disconnect the port connection.\n",
    "        s.shutdown(socket.SHUT_WR)\n",
    "        s.close()\n",
    "\n",
    "if __name__ == '__main__':\n",
    "        main()"
   ]
  }
 ],
 "metadata": {
  "kernelspec": {
   "display_name": "Python 3",
   "language": "python",
   "name": "python3"
  },
  "language_info": {
   "codemirror_mode": {
    "name": "ipython",
    "version": 2
   },
   "file_extension": ".py",
   "mimetype": "text/x-python",
   "name": "python",
   "nbconvert_exporter": "python",
   "pygments_lexer": "ipython2",
   "version": "2.7.6"
  }
 },
 "nbformat": 4,
 "nbformat_minor": 5
}
