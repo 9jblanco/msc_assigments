{
 "cells": [
  {
   "cell_type": "markdown",
   "metadata": {},
   "source": [
    "Student name:Jorge Blanco\n",
    "\n",
    "Student ID: 24246948"
   ]
  },
  {
   "cell_type": "markdown",
   "metadata": {},
   "source": [
    "Please use this notebook to work on Task 2. You should not import any additional modules."
   ]
  },
  {
   "cell_type": "markdown",
   "metadata": {},
   "source": [
    "- The 'as' keyword allows you to invoke functionality from the module using an alias for the module name. For example: np.mean() instead of numpy.mean()\n",
    "- The from keyword allows you to only import the functionality of interest, for example above we import only the PCA class from the sklearn.decomposition module"
   ]
  },
  {
   "cell_type": "code",
   "metadata": {
    "collapsed": true,
    "ExecuteTime": {
     "end_time": "2024-09-29T20:53:19.139767Z",
     "start_time": "2024-09-29T20:53:17.123594Z"
    }
   },
   "source": [
    "import numpy as np\n",
    "import random as rand\n",
    "import matplotlib.pyplot as plt\n",
    "from sklearn.decomposition import PCA"
   ],
   "outputs": [],
   "execution_count": 3
  },
  {
   "cell_type": "markdown",
   "metadata": {},
   "source": [
    "TEST DATA"
   ]
  },
  {
   "cell_type": "code",
   "metadata": {
    "collapsed": true,
    "ExecuteTime": {
     "end_time": "2024-09-29T20:53:08.307738Z",
     "start_time": "2024-09-29T20:53:08.291721Z"
    }
   },
   "source": [
    "a_x = 0.05\n",
    "a_y= 10"
   ],
   "outputs": [],
   "execution_count": 1
  },
  {
   "cell_type": "code",
   "metadata": {
    "collapsed": true,
    "ExecuteTime": {
     "end_time": "2024-10-04T08:51:39.109517Z",
     "start_time": "2024-10-04T08:51:39.085791Z"
    }
   },
   "source": [
    "data =  np.array([[n*(1+a_x*(rand.random()-0.5)),4*n+ a_y*(rand.random()-0.5)] for n in range(20)])"
   ],
   "outputs": [],
   "execution_count": 71
  },
  {
   "cell_type": "markdown",
   "metadata": {},
   "source": [
    "The numpy shape property is very useful to get an insight in the dimensions of your data, for example to check whether the features (in this case 2) or the samples (in this case 20) are in the rows or the columns. The notation used here (with columns containing the features and rows containing separate examples) is the standard for Scikitlearn and many other machine learning toolboxes.\n"
   ]
  },
  {
   "cell_type": "code",
   "metadata": {
    "ExecuteTime": {
     "end_time": "2024-10-04T08:51:40.964198Z",
     "start_time": "2024-10-04T08:51:40.940236Z"
    }
   },
   "source": [
    "data.shape"
   ],
   "outputs": [
    {
     "data": {
      "text/plain": [
       "(20, 2)"
      ]
     },
     "execution_count": 72,
     "metadata": {},
     "output_type": "execute_result"
    }
   ],
   "execution_count": 72
  },
  {
   "metadata": {
    "ExecuteTime": {
     "end_time": "2024-10-04T08:51:42.908488Z",
     "start_time": "2024-10-04T08:51:42.878911Z"
    }
   },
   "cell_type": "code",
   "source": "data",
   "outputs": [
    {
     "data": {
      "text/plain": [
       "array([[ 0.        ,  0.25008458],\n",
       "       [ 1.01480301,  6.09965363],\n",
       "       [ 2.04326466,  5.65235543],\n",
       "       [ 2.97315599, 11.90372003],\n",
       "       [ 3.94645803, 16.68067102],\n",
       "       [ 5.03022179, 24.09750976],\n",
       "       [ 6.00214176, 25.13495704],\n",
       "       [ 7.12196227, 32.41570981],\n",
       "       [ 7.97909031, 35.58343084],\n",
       "       [ 8.91686877, 34.13751633],\n",
       "       [10.16741377, 35.69962499],\n",
       "       [11.04894619, 48.42074689],\n",
       "       [11.80923106, 43.44516784],\n",
       "       [13.1264464 , 56.81163497],\n",
       "       [14.04887682, 52.1916036 ],\n",
       "       [15.29865947, 64.43679716],\n",
       "       [16.05945802, 68.00285741],\n",
       "       [16.98496048, 63.7904805 ],\n",
       "       [17.79626723, 72.9998576 ],\n",
       "       [19.20853953, 77.0711889 ]])"
      ]
     },
     "execution_count": 73,
     "metadata": {},
     "output_type": "execute_result"
    }
   ],
   "execution_count": 73
  },
  {
   "metadata": {
    "ExecuteTime": {
     "end_time": "2024-10-04T08:51:47.862320Z",
     "start_time": "2024-10-04T08:51:47.837398Z"
    }
   },
   "cell_type": "code",
   "source": [
    "X_std = (data - data.mean(axis=0)) / data.std(axis=0)\n",
    "print(X_std)"
   ],
   "outputs": [
    {
     "name": "stdout",
     "output_type": "stream",
     "text": [
      "[[-1.64685056 -1.66110155]\n",
      " [-1.47146413 -1.40866126]\n",
      " [-1.29371711 -1.42796457]\n",
      " [-1.1330058  -1.15818465]\n",
      " [-0.9647919  -0.95203358]\n",
      " [-0.77748712 -0.63195719]\n",
      " [-0.60951209 -0.58718578]\n",
      " [-0.41597569 -0.27298223]\n",
      " [-0.26783992 -0.13627807]\n",
      " [-0.1057655  -0.19867704]\n",
      " [ 0.11036376 -0.13126367]\n",
      " [ 0.26271729  0.417721  ]\n",
      " [ 0.39411584  0.20299807]\n",
      " [ 0.6217676   0.77983285]\n",
      " [ 0.78118945  0.5804537 ]\n",
      " [ 0.99718696  1.10889951]\n",
      " [ 1.12867429  1.26279414]\n",
      " [ 1.28862707  1.08100748]\n",
      " [ 1.42884364  1.47844151]\n",
      " [ 1.67292391  1.65414131]]\n"
     ]
    }
   ],
   "execution_count": 74
  },
  {
   "metadata": {
    "ExecuteTime": {
     "end_time": "2024-10-04T17:03:34.845386Z",
     "start_time": "2024-10-04T17:03:34.619010Z"
    }
   },
   "cell_type": "code",
   "source": [
    "pca = PCA(n_components=1) # keep 1 component\n",
    "pca.fit(X_std)\n",
    "X_pca = pca.transform(X_std)\n",
    "\n",
    "print(pca.explained_variance_ratio_)\n",
    "\n",
    "# The vector to plot (the first principal component from PCA)\n",
    "# this is the first eigenvector of the covariance matrix as resulting from PCA\n",
    "mean = pca.mean_\n",
    "vector =abs( pca.components_[0])\n",
    "\n",
    "X_std_reconstructed = pca.inverse_transform(X_pca)\n",
    "\n",
    "plt.quiver(mean[0], mean[1], vector[0], vector[1],  angles='xy', scale_units='xy', scale=1, color='red', width=0.005)\n",
    "plt.scatter(X_std[:,0], X_std[:,1], color='green', label='Input',  alpha=0.6)\n",
    "plt.scatter(X_std_reconstructed[:,0], X_std_reconstructed[:,1], color='blue', label='PCA',  alpha=0.6)\n",
    "plt.legend()\n",
    "plt.title('PCA on Input Data')\n",
    "plt.xlabel('xs')\n",
    "plt.ylabel('ys');"
   ],
   "outputs": [
    {
     "name": "stdout",
     "output_type": "stream",
     "text": [
      "[0.99560458]\n"
     ]
    },
    {
     "data": {
      "text/plain": [
       "<Figure size 640x480 with 1 Axes>"
      ],
      "image/png": "[encoded data removed]"
     },
     "metadata": {},
     "output_type": "display_data"
    }
   ],
   "execution_count": 135
  },
  {
   "metadata": {
    "ExecuteTime": {
     "end_time": "2024-10-04T17:03:39.158545Z",
     "start_time": "2024-10-04T17:03:39.149167Z"
    }
   },
   "cell_type": "code",
   "source": [
    "# Use Numpy to calculate the Eigen vectors of the data's covariance matrix and check your results using the output from the PCA performed in step 1.\n",
    "# Calculate the covariance matrix\n",
    "covariance_matrix = np.cov(X_std.T)\n",
    "\n",
    "eigenvalues, eigenvectors = np.linalg.eig(covariance_matrix)\n",
    "print(eigenvectors)\n",
    "print(pca.components_)\n"
   ],
   "outputs": [
    {
     "name": "stdout",
     "output_type": "stream",
     "text": [
      "[[ 0.70710678 -0.70710678]\n",
      " [ 0.70710678  0.70710678]]\n",
      "[[0.70710678 0.70710678]]\n"
     ]
    }
   ],
   "execution_count": 136
  }
 ],
 "metadata": {
  "kernelspec": {
   "display_name": "Python 3 (ipykernel)",
   "language": "python",
   "name": "python3"
  },
  "language_info": {
   "codemirror_mode": {
    "name": "ipython",
    "version": 3
   },
   "file_extension": ".py",
   "mimetype": "text/x-python",
   "name": "python",
   "nbconvert_exporter": "python",
   "pygments_lexer": "ipython3",
   "version": "3.8.8"
  }
 },
 "nbformat": 4,
 "nbformat_minor": 1
}
