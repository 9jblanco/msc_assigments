{
 "cells": [
  {
   "cell_type": "markdown",
   "metadata": {},
   "source": [
    "## Notebook E-tivity 2 CE4021 Linear Regression"
   ]
  },
  {
   "cell_type": "markdown",
   "metadata": {},
   "source": "Student name:Jorge Blanco"
  },
  {
   "cell_type": "markdown",
   "metadata": {},
   "source": "Student ID: 24246948"
  },
  {
   "cell_type": "markdown",
   "metadata": {},
   "source": [
    "<hr style=\"border:2px solid gray\"> </hr>"
   ]
  },
  {
   "cell_type": "markdown",
   "metadata": {},
   "source": [
    "## Imports"
   ]
  },
  {
   "cell_type": "code",
   "metadata": {
    "ExecuteTime": {
     "end_time": "2024-10-01T13:40:08.528045Z",
     "start_time": "2024-10-01T13:40:08.519211Z"
    }
   },
   "source": [
    "import numpy as np\n",
    "import matplotlib.pyplot as plt\n",
    "from prompt_toolkit.input import Input\n",
    "\n",
    "from __future__ import annotations # i want in all the methods specify the return type"
   ],
   "outputs": [],
   "execution_count": 373
  },
  {
   "cell_type": "markdown",
   "metadata": {},
   "source": [
    "If you believe required imports are missing, please contact your moderator."
   ]
  },
  {
   "cell_type": "markdown",
   "metadata": {},
   "source": [
    "<hr style=\"border:2px solid gray\"> </hr>"
   ]
  },
  {
   "cell_type": "markdown",
   "metadata": {},
   "source": [
    "## Reference Implementation"
   ]
  },
  {
   "cell_type": "code",
   "metadata": {
    "ExecuteTime": {
     "end_time": "2024-10-01T13:40:08.681063Z",
     "start_time": "2024-10-01T13:40:08.670067Z"
    }
   },
   "source": [
    "def linreg_weights(X,y):\n",
    "    # Calculation of weights using pseudo-inverse. Note that X needs to contain the bias of 1\n",
    "    return np.linalg.inv((X.T.dot(X))).dot(X.T).dot(y)"
   ],
   "outputs": [],
   "execution_count": 374
  },
  {
   "cell_type": "code",
   "metadata": {
    "ExecuteTime": {
     "end_time": "2024-10-01T13:40:08.788192Z",
     "start_time": "2024-10-01T13:40:08.769699Z"
    }
   },
   "source": [
    "def linreg_predict(w,X):\n",
    "    # Calculation of outputs given weights and data (X). Note that X needs to contain the bias of 1. \n",
    "    out=[]\n",
    "    for x in X:\n",
    "        out.append(w.T.dot(x))\n",
    "    return np.array(out)"
   ],
   "outputs": [],
   "execution_count": 375
  },
  {
   "cell_type": "markdown",
   "metadata": {},
   "source": [
    "Load data from file (including bias of 1)"
   ]
  },
  {
   "cell_type": "code",
   "metadata": {
    "ExecuteTime": {
     "end_time": "2024-10-01T13:40:08.849930Z",
     "start_time": "2024-10-01T13:40:08.838276Z"
    }
   },
   "source": [
    "data = np.loadtxt('lr_data.csv', delimiter=',')\n",
    "X = data[:,0:2]\n",
    "y= [[data[i,2]] for i in range(0,len(data[:,2]))]\n"
   ],
   "outputs": [],
   "execution_count": 376
  },
  {
   "cell_type": "markdown",
   "metadata": {},
   "source": [
    "Apply data to linear regression algorithm to obtain weights"
   ]
  },
  {
   "cell_type": "code",
   "metadata": {
    "ExecuteTime": {
     "end_time": "2024-10-01T13:40:08.911249Z",
     "start_time": "2024-10-01T13:40:08.884921Z"
    }
   },
   "source": "weights = linreg_weights(X,y)",
   "outputs": [],
   "execution_count": 377
  },
  {
   "metadata": {
    "ExecuteTime": {
     "end_time": "2024-10-01T13:40:08.972171Z",
     "start_time": "2024-10-01T13:40:08.962330Z"
    }
   },
   "cell_type": "code",
   "source": "data = np.loadtxt('lr_data.csv', delimiter=',')\n",
   "outputs": [],
   "execution_count": 378
  },
  {
   "cell_type": "code",
   "metadata": {
    "ExecuteTime": {
     "end_time": "2024-10-01T13:40:09.205925Z",
     "start_time": "2024-10-01T13:40:09.030072Z"
    }
   },
   "source": [
    "ind = np.arange(0,2.8,0.1)\n",
    "plt.plot(X[:,1],y,'.')\n",
    "plt.plot(ind, ind*weights[1]+weights[0],'r')\n",
    "plt.axis([0, 3, -100, 1500])"
   ],
   "outputs": [
    {
     "data": {
      "text/plain": [
       "(0.0, 3.0, -100.0, 1500.0)"
      ]
     },
     "execution_count": 379,
     "metadata": {},
     "output_type": "execute_result"
    },
    {
     "data": {
      "text/plain": [
       "<Figure size 640x480 with 1 Axes>"
      ],
      "image/png": "[encoded data removed]"
     },
     "metadata": {},
     "output_type": "display_data"
    }
   ],
   "execution_count": 379
  },
  {
   "cell_type": "markdown",
   "metadata": {},
   "source": [
    "<hr style=\"border:2px solid gray\"> </hr>"
   ]
  },
  {
   "cell_type": "markdown",
   "metadata": {},
   "source": [
    "## Task"
   ]
  },
  {
   "cell_type": "markdown",
   "metadata": {},
   "source": [
    "You may add as many cells as you require to complete this task. \n",
    "I added a cell for each method, makes it easy to test it"
   ]
  },
  {
   "metadata": {},
   "cell_type": "raw",
   "source": "To see the code for the class, search for the string \"PoorManLinearEquation\""
  },
  {
   "metadata": {
    "ExecuteTime": {
     "end_time": "2024-10-01T14:22:06.948610Z",
     "start_time": "2024-10-01T14:22:06.926223Z"
    }
   },
   "cell_type": "code",
   "source": [
    "def transpose_matrix(matrix):\n",
    "    # * matrix selects all the items in the matrix as independent items ie  [1, 1, 1, 1] [2, 2, 2, 2] [3, 3, 3, 3] [4, 4, 4, 4]\n",
    "    # zip combines all the elements of the same index of each row in to a new item  in (1, 2, 3, 4)\n",
    "    # that is how we shift the matrix \n",
    "    return [list(row) for row in zip(*matrix)]"
   ],
   "outputs": [],
   "execution_count": 398
  },
  {
   "metadata": {
    "ExecuteTime": {
     "end_time": "2024-10-01T14:22:09.408533Z",
     "start_time": "2024-10-01T14:22:09.390460Z"
    }
   },
   "cell_type": "code",
   "source": "print(transpose_matrix([[4, 4],[5, 5]]))",
   "outputs": [
    {
     "name": "stdout",
     "output_type": "stream",
     "text": [
      "[[4, 5], [4, 5]]\n"
     ]
    }
   ],
   "execution_count": 399
  },
  {
   "metadata": {
    "ExecuteTime": {
     "end_time": "2024-10-04T12:56:26.381424Z",
     "start_time": "2024-10-04T12:56:26.359803Z"
    }
   },
   "cell_type": "code",
   "source": [
    "def round_values_original_code(value):\n",
    "    return round(value, 8)"
   ],
   "outputs": [],
   "execution_count": 443
  },
  {
   "metadata": {
    "ExecuteTime": {
     "end_time": "2024-10-04T12:56:29.394986Z",
     "start_time": "2024-10-04T12:56:29.372674Z"
    }
   },
   "cell_type": "code",
   "source": "print(round_values_original_code(-99.46426606000429))",
   "outputs": [
    {
     "name": "stdout",
     "output_type": "stream",
     "text": [
      "-99.46426606\n"
     ]
    }
   ],
   "execution_count": 444
  },
  {
   "metadata": {
    "ExecuteTime": {
     "end_time": "2024-10-04T13:46:16.206876Z",
     "start_time": "2024-10-04T13:46:16.195127Z"
    }
   },
   "cell_type": "code",
   "source": [
    "# perform the dot product of 2 vectors\n",
    "def dot_vector(vector_left, vector_right): \n",
    "    \n",
    "    if len(vector_left) != len(vector_right):\n",
    "        raise ValueError(\"Vectors must be of the same length\")\n",
    "    \n",
    "    return [sum([i*j for (i, j) in zip(vector_left, vector_right)])]"
   ],
   "outputs": [],
   "execution_count": 479
  },
  {
   "metadata": {
    "ExecuteTime": {
     "end_time": "2024-10-04T13:46:25.562829Z",
     "start_time": "2024-10-04T13:46:25.532246Z"
    }
   },
   "cell_type": "code",
   "source": "dot_vector([4, 1, 2, 3], [3, 1, 7, 2])",
   "outputs": [
    {
     "data": {
      "text/plain": [
       "[33]"
      ]
     },
     "execution_count": 481,
     "metadata": {},
     "output_type": "execute_result"
    }
   ],
   "execution_count": 481
  },
  {
   "metadata": {
    "ExecuteTime": {
     "end_time": "2024-10-04T13:46:28.732436Z",
     "start_time": "2024-10-04T13:46:28.673361Z"
    }
   },
   "cell_type": "code",
   "source": "dot_vector([4, 1, 2], [3, 1, 7, 2])\n",
   "outputs": [
    {
     "ename": "ValueError",
     "evalue": "Vectors must be of the same length",
     "output_type": "error",
     "traceback": [
      "\u001B[1;31m---------------------------------------------------------------------------\u001B[0m",
      "\u001B[1;31mValueError\u001B[0m                                Traceback (most recent call last)",
      "Cell \u001B[1;32mIn[482], line 1\u001B[0m\n\u001B[1;32m----> 1\u001B[0m \u001B[43mdot_vector\u001B[49m\u001B[43m(\u001B[49m\u001B[43m[\u001B[49m\u001B[38;5;241;43m4\u001B[39;49m\u001B[43m,\u001B[49m\u001B[43m \u001B[49m\u001B[38;5;241;43m1\u001B[39;49m\u001B[43m,\u001B[49m\u001B[43m \u001B[49m\u001B[38;5;241;43m2\u001B[39;49m\u001B[43m]\u001B[49m\u001B[43m,\u001B[49m\u001B[43m \u001B[49m\u001B[43m[\u001B[49m\u001B[38;5;241;43m3\u001B[39;49m\u001B[43m,\u001B[49m\u001B[43m \u001B[49m\u001B[38;5;241;43m1\u001B[39;49m\u001B[43m,\u001B[49m\u001B[43m \u001B[49m\u001B[38;5;241;43m7\u001B[39;49m\u001B[43m,\u001B[49m\u001B[43m \u001B[49m\u001B[38;5;241;43m2\u001B[39;49m\u001B[43m]\u001B[49m\u001B[43m)\u001B[49m\n",
      "Cell \u001B[1;32mIn[479], line 5\u001B[0m, in \u001B[0;36mdot_vector\u001B[1;34m(vector_left, vector_right)\u001B[0m\n\u001B[0;32m      2\u001B[0m \u001B[38;5;28;01mdef\u001B[39;00m \u001B[38;5;21mdot_vector\u001B[39m(vector_left, vector_right): \n\u001B[0;32m      4\u001B[0m     \u001B[38;5;28;01mif\u001B[39;00m \u001B[38;5;28mlen\u001B[39m(vector_left) \u001B[38;5;241m!=\u001B[39m \u001B[38;5;28mlen\u001B[39m(vector_right):\n\u001B[1;32m----> 5\u001B[0m         \u001B[38;5;28;01mraise\u001B[39;00m \u001B[38;5;167;01mValueError\u001B[39;00m(\u001B[38;5;124m\"\u001B[39m\u001B[38;5;124mVectors must be of the same length\u001B[39m\u001B[38;5;124m\"\u001B[39m)\n\u001B[0;32m      7\u001B[0m     \u001B[38;5;28;01mreturn\u001B[39;00m [\u001B[38;5;28msum\u001B[39m([i\u001B[38;5;241m*\u001B[39mj \u001B[38;5;28;01mfor\u001B[39;00m (i, j) \u001B[38;5;129;01min\u001B[39;00m \u001B[38;5;28mzip\u001B[39m(vector_left, vector_right)])]\n",
      "\u001B[1;31mValueError\u001B[0m: Vectors must be of the same length"
     ]
    }
   ],
   "execution_count": 482
  },
  {
   "metadata": {
    "ExecuteTime": {
     "end_time": "2024-10-04T13:08:34.474020Z",
     "start_time": "2024-10-04T13:08:34.448182Z"
    }
   },
   "cell_type": "code",
   "source": [
    "# perform the dot product of two matrix\n",
    "# multiple all the rows of the matrix_left by all the columns matrix_right\n",
    "def dot_matrix(matrix_left, matrix_right) :\n",
    "    \n",
    "    if len(matrix_left[0]) != len(matrix_right):\n",
    "        return ValueError('Matrix size mismatch.')\n",
    "        \n",
    "    # we get the rows of matrix_right , \n",
    "    # then using the zip(*.matrix_right) code we build the columns from the rows \n",
    "    # now that we have vectors with identical vectors we loop the index of each item and multiple and sum \n",
    "    #\n",
    "    # matrix_left = [[1, 2],\n",
    "    #                [2, 3]]\n",
    "    # matrix_right = [[1 ,3],\n",
    "    #                 [4, 5]]\n",
    "    # zip(*matrix_right) --> [[1, 4], [3, 5]\n",
    "    # in the last part we loop each vector using i as the index (since the list of vectors is of the same length)\n",
    "    # sum(row[i] * column[i]... -->  acts as 1*1 + 2*4 \n",
    "    #  1*1+2*4 = 9 \n",
    "    #  1*3+2*5 = 13 ..\n",
    "    # Why the transpose ? we want the columns of a matrix --> so we transpose and that is how we get the columns, without having to do any messed up logic   \n",
    "    return [[sum((row[i] * column[i]) for i in range(len(column))) for column in transpose_matrix(matrix_right)] for row in matrix_left]"
   ],
   "outputs": [],
   "execution_count": 453
  },
  {
   "metadata": {
    "ExecuteTime": {
     "end_time": "2024-10-04T13:09:49.890999Z",
     "start_time": "2024-10-04T13:09:49.862082Z"
    }
   },
   "cell_type": "code",
   "source": "print(dot_matrix([[1, 2],[2, 3]],[[1 ,3],[4, 5]]))",
   "outputs": [
    {
     "name": "stdout",
     "output_type": "stream",
     "text": [
      "[[9, 13], [14, 21]]\n"
     ]
    }
   ],
   "execution_count": 454
  },
  {
   "metadata": {
    "ExecuteTime": {
     "end_time": "2024-10-04T13:35:11.365654Z",
     "start_time": "2024-10-04T13:35:11.344530Z"
    }
   },
   "cell_type": "code",
   "source": "print(dot_matrix([[1, 3, -2],[4, 0, 5]],[[2 ,1],[3, -1]]))",
   "outputs": [
    {
     "name": "stdout",
     "output_type": "stream",
     "text": [
      "Matrix size mismatch\n"
     ]
    }
   ],
   "execution_count": 460
  },
  {
   "metadata": {
    "ExecuteTime": {
     "end_time": "2024-10-04T13:11:30.649188Z",
     "start_time": "2024-10-04T13:11:30.626700Z"
    }
   },
   "cell_type": "code",
   "source": "print(dot_matrix([[2, 1],[0, 3]],[[1 ,1],[3, 2]]))\n",
   "outputs": [
    {
     "name": "stdout",
     "output_type": "stream",
     "text": [
      "[[5, 4], [9, 6]]\n"
     ]
    }
   ],
   "execution_count": 455
  },
  {
   "metadata": {
    "ExecuteTime": {
     "end_time": "2024-10-01T14:22:27.137402Z",
     "start_time": "2024-10-01T14:22:27.120812Z"
    }
   },
   "cell_type": "code",
   "source": [
    "# calculate the determinant of a 2 x 2 matrix , \n",
    "# using the math formula  a * d - b * c\n",
    "# the function will throw an exception if the input is not a 2x2 matrix or if the determinant is zero\n",
    "def calculate_determinant_2_x_2(matrix):\n",
    "        \n",
    "    a, b = matrix[0][0], matrix[0][1]\n",
    "    c, d = matrix[1][0], matrix[1][1]\n",
    "    \n",
    "    determinant = (a * d) - (b * c)\n",
    "    \n",
    "    if determinant == 0:\n",
    "        return ValueError(\"The determinant is 0, the matrix doesn't have an invertible matrix\")\n",
    "    \n",
    "    return determinant"
   ],
   "outputs": [],
   "execution_count": 406
  },
  {
   "metadata": {
    "ExecuteTime": {
     "end_time": "2024-10-01T14:22:29.796607Z",
     "start_time": "2024-10-01T14:22:29.771174Z"
    }
   },
   "cell_type": "code",
   "source": [
    "# formula to be used to calculate the inverse of a matrix  ==>  AA^-1 = I\n",
    "# have A (matrix input), we can calculate I (identity metrix) , inverse can be calculated from that\n",
    "# 1 / A (I)\n",
    "def calculate_inverse_matrix(matrix):\n",
    "   \n",
    "    if len(matrix) != 2:\n",
    "        raise ValueError('Sorry we are only calculating the invert of a 2x2 Matrix')\n",
    "    \n",
    "    determinant = calculate_determinant_2_x_2(matrix)\n",
    "    \n",
    "    a, b = matrix[0][0], matrix[0][1]\n",
    "    c, d = matrix[1][0], matrix[1][1]\n",
    "    \n",
    "    return [\n",
    "        [round_values_original_code(d / determinant), round_values_original_code(-b / determinant)],\n",
    "        [round_values_original_code(-c / determinant), round_values_original_code(a / determinant)]\n",
    "    ]"
   ],
   "outputs": [],
   "execution_count": 407
  },
  {
   "metadata": {
    "ExecuteTime": {
     "end_time": "2024-10-01T14:22:32.973129Z",
     "start_time": "2024-10-01T14:22:32.959271Z"
    }
   },
   "cell_type": "code",
   "source": "print(calculate_inverse_matrix([[9, 13], [14, 21]]))",
   "outputs": [
    {
     "name": "stdout",
     "output_type": "stream",
     "text": [
      "[[3.0, -1.85714286], [-2.0, 1.28571429]]\n"
     ]
    }
   ],
   "execution_count": 408
  },
  {
   "metadata": {
    "ExecuteTime": {
     "end_time": "2024-10-04T13:47:19.373911Z",
     "start_time": "2024-10-04T13:47:19.348406Z"
    }
   },
   "cell_type": "code",
   "source": [
    "#The job of the fit is to calculate the theta \n",
    "#theta = inv(X^T * X) * X^T * y\n",
    "# the logic in the method is a breakdown of the above formula  \n",
    "def fit(X,y):\n",
    "    x_T = transpose_matrix(X)\n",
    "    \n",
    "    matrix_to_invert = dot_matrix(x_T, X)\n",
    "    \n",
    "    matrix_inverted = calculate_inverse_matrix(matrix_to_invert)\n",
    "    \n",
    "    return dot_matrix(dot_matrix(matrix_inverted, x_T), y)\n",
    "\n",
    "#given the weight and sample data calculate thr output \n",
    "def predict(weight, dataPoints):\n",
    "    \n",
    "    weight_transposed = transpose_matrix(weight)\n",
    "    \n",
    "    out_predicate=[]\n",
    "    for data_point in dataPoints:\n",
    "        out_predicate.append(dot_vector(weight_transposed[0], data_point))\n",
    "    \n",
    "    return out_predicate"
   ],
   "outputs": [],
   "execution_count": 484
  },
  {
   "metadata": {
    "ExecuteTime": {
     "end_time": "2024-10-01T14:22:39.040637Z",
     "start_time": "2024-10-01T14:22:39.019208Z"
    }
   },
   "cell_type": "code",
   "source": [
    "def get_input_data():\n",
    "    data_task1 = np.loadtxt('lr_data.csv', delimiter=',')\n",
    "\n",
    "# from the table extract 1 and 2 column values \n",
    "# [:, 0:2] for all the items in the array extract column 1 and 2\n",
    "# Explanatory variable / Features / Training data\n",
    "    X = data_task1[:,0:2]\n",
    "\n",
    "# from the table extract the 3rd column values \n",
    "# numpy gives you the option to convert its array in to a list \n",
    "# [:, 2:3] for all the items in the array extract column 3  \n",
    "# Response variable / Target values\n",
    "    y = data_task1[:,2:3]\n",
    "    \n",
    "    return X, y"
   ],
   "outputs": [],
   "execution_count": 410
  },
  {
   "cell_type": "code",
   "metadata": {
    "ExecuteTime": {
     "end_time": "2024-10-04T13:47:24.994762Z",
     "start_time": "2024-10-04T13:47:24.603258Z"
    }
   },
   "source": [
    "# -----------------------------------------------  execution logic     -----------------------------  \n",
    "    \n",
    "file_data = get_input_data()\n",
    "\n",
    "weights = fit(file_data[0].tolist(), file_data[1].tolist())\n",
    "predicate = predict(weights, file_data[0].tolist())\n",
    "\n",
    "plt.scatter(file_data[0][:, 1], file_data[1], color='green', label='Actual Response')\n",
    "plt.plot(file_data[0][:, 1], predicate, color='yellow', label='Estimated regression line')\n",
    "\n",
    "plt.xlabel('Explanatory variable - X')\n",
    "plt.ylabel('Response variable - y')\n",
    "plt.title('Linear Regression - poor''s man version')\n",
    "plt.legend()\n",
    "plt.show()\n"
   ],
   "outputs": [
    {
     "data": {
      "text/plain": [
       "<Figure size 640x480 with 1 Axes>"
      ],
      "image/png": "[encoded data removed]"
     },
     "metadata": {},
     "output_type": "display_data"
    }
   ],
   "execution_count": 485
  },
  {
   "metadata": {
    "ExecuteTime": {
     "end_time": "2024-10-01T13:40:12.001727600Z",
     "start_time": "2024-09-28T01:36:28.269434Z"
    }
   },
   "cell_type": "code",
   "source": [
    "# -----------------------------------------------  test logic     -----------------------------\n",
    "file_data_test = get_input_data()\n",
    "\n",
    "# data used by the original code \n",
    "X_np, y_np = file_data_test[0], file_data_test[1]\n",
    "\n",
    "#print(f\" X.T                                         -> {X_np.T}\")\n",
    "#print(f\" X.T.dot(X)                                  -> {X_np.T.dot(X_np)}\")\n",
    "#print(f\" np.linalg.inv((X.T.dot(X)))                 -> {np.linalg.inv((X_np.T.dot(X_np)))}\")\n",
    "#print(f\" np.linalg.inv((X.T.dot(X))).dot(X.T)        -> {np.linalg.inv((X_np.T.dot(X_np))).dot(X_np.T)}\")\n",
    "#print(f\" np.linalg.inv((X.T.dot(X))).dot(X.T).dot(y) -> {np.linalg.inv((X_np.T.dot(X_np))).dot(X_np.T).dot(y_np)}\")\n",
    "\n",
    "# data used by the custom code \n",
    "X_custom, y_custom = file_data_test[0], file_data_test[1]\n",
    "\n",
    "transpose_custom = transpose_matrix(X_custom)\n",
    "#print(f\" X_np.T  same     -> {np.allclose(X_np.T, transpose_custom)}\")\n",
    "\n",
    "transposed_dot_product = dot_matrix(transpose_custom, X_custom)\n",
    "#print(f\" X.T.dot(X) same  -> {np.allclose(X_np.T.dot(X_np), transposed_dot_product)}\")\n",
    "\n",
    "inverted_after_transposed_dot_product = calculate_inverse_matrix(transposed_dot_product)\n",
    "#print(f\" np.linalg.inv((X.T.dot(X))) same   -> {np.allclose(np.linalg.inv((X_np.T.dot(X_np))), inverted_after_transposed_dot_product)}\")\n",
    "\n",
    "inverted_dot_transposed_custom = dot_matrix(inverted_after_transposed_dot_product, transpose_custom)\n",
    "#print(f\" np.linalg.inv((X.T.dot(X))).dot(X.T) same   -> {np.allclose(np.linalg.inv((X_np.T.dot(X_np))).dot(X_np.T), inverted_dot_transposed_custom)}\")\n",
    "\n",
    "inverted_dot_transposed_custom_dot_y = dot_matrix(inverted_dot_transposed_custom, y_custom)\n",
    "#print(f\" np.linalg.inv((X.T.dot(X))).dot(X.T).dot(y) same   -> {np.allclose(np.linalg.inv((X.T.dot(X))).dot(X.T).dot(y), inverted_dot_transposed_custom_dot_y)}\")\n",
    "\n",
    "weights_np = linreg_weights(X_np,y_np)\n",
    "weight_custom = fit(X_custom, y_custom)\n",
    "print(f\" weights same   -> {np.allclose(weights_np, weight_custom)}\")\n",
    "\n",
    "weights_np_transposed = weights_np.T\n",
    "weight_custom_transposed = transpose_matrix(weight_custom)\n",
    "#print(f\" weights.T same   -> {np.allclose(weights_np_transposed, weight_custom_transposed)}\")\n",
    "\n",
    "X_test_random_point = [[1, 4], [1,2]]\n",
    "predict_np = linreg_predict(weights_np, X_test_random_point)\n",
    "predict_custom = predict(weight_custom, X_test_random_point)\n",
    "\n",
    "print(f\" predicats the same   -> {np.allclose(predict_np, predict_custom)}\")\n"
   ],
   "outputs": [
    {
     "name": "stdout",
     "output_type": "stream",
     "text": [
      " weights.T same   -> True\n",
      " w[[-99.46426606000429, 564.2039907399998]]\n"
     ]
    }
   ],
   "execution_count": 289
  },
  {
   "metadata": {},
   "cell_type": "markdown",
   "source": ""
  },
  {
   "metadata": {
    "ExecuteTime": {
     "end_time": "2024-10-04T17:52:09.674791Z",
     "start_time": "2024-10-04T17:52:09.639960Z"
    }
   },
   "cell_type": "code",
   "source": [
    "class PoorManLinearEquation :\n",
    "    \"\"\" JorgeVector.\n",
    "    Custom implementation of the Linear Equation algorithm using the fit and predict methods\n",
    "        \n",
    "    \"\"\"\n",
    "            \n",
    "    def __init__(self, data_filename) :\n",
    "        self.data_filename = data_filename\n",
    "          \n",
    "    def get_input_data(self) -> InputDataPair :\n",
    "        \"\"\"Load the data from the source file to be used by the algorithm.\n",
    "        \n",
    "        :return: a tuple of X (type of Jorge Matrix) and y from the data source file\n",
    "        \"\"\"\n",
    "          \n",
    "        data_loaded_from_file = np.loadtxt(self.data_filename, delimiter=',')\n",
    "            \n",
    "        X_data = data_loaded_from_file[:,0:2]\n",
    "        y_data = data_loaded_from_file[:,2:3]\n",
    "    \n",
    "        return self.InputDataPair(X_data, y_data)\n",
    "    \n",
    "    def fit_and_predict (self, input_user_data: InputDataPair, sample_data_points) -> JorgeVector :\n",
    "        \"\"\"Perform fit and predict\n",
    "        \n",
    "        Parameters\n",
    "        ----------\n",
    "        :param input_user_data: Training data and Target values\n",
    "        :param sample_data_points: sample data points\n",
    "        :return: the result of performing the dot product of the matrix on the left and right\n",
    "        \"\"\"\n",
    "        weights = linearEquation.fit(input_user_data)\n",
    "        return linearEquation.predict(weights, sample_data_points)\n",
    "        \n",
    "    def fit(self, input_user_data: InputDataPair) -> JorgeMatrix:\n",
    "        \"\"\"Calculate the weight for the input data.\n",
    "        \n",
    "        Parameters\n",
    "        ----------\n",
    "        :param input_user_data: Training data and Target values\n",
    "        :return: weight/ theta based on the formula inv(X^T * X) * X^T * y\n",
    "        \"\"\"\n",
    "\n",
    "        matrix_transposed = self.JorgeMatrix(input_user_data.X).transpose_matrix()\n",
    "\n",
    "        matrix_inverted = matrix_transposed.dot_matrix(input_user_data.X).calculate_inverse_matrix_2_x_2()\n",
    "        \n",
    "        weight_for_input_data = matrix_inverted.dot_matrix(matrix_transposed.matrix).dot_matrix(input_user_data.y)\n",
    "\n",
    "        return weight_for_input_data\n",
    "    \n",
    "    def predict(self, weight: JorgeMatrix, sample_data_points) -> JorgeVector:\n",
    "        \"\"\"Given the weight and sample data calculate the output \n",
    "        \n",
    "        Parameters\n",
    "        ----------\n",
    "        :param weight: weight to be used on the data points\n",
    "        :param sample_data_points: sample data points\n",
    "        :return: predicates\n",
    "        \"\"\"\n",
    "        \n",
    "        weight_transposed = self.JorgeVector(weight.transpose_matrix().matrix[0])\n",
    "        \n",
    "        for data_point in sample_data_points:\n",
    "            weight_transposed.dot_vector_append_predicate(data_point)\n",
    "\n",
    "        return weight_transposed.out_predicate\n",
    "    \n",
    "    class InputDataPair : \n",
    "        \"\"\" InputDataPair.\n",
    "        Util class to encapsulate the input data pair\n",
    "        \n",
    "        Attributes\n",
    "        ----------\n",
    "        X: training data .\n",
    "        y: target value \n",
    "        \"\"\"\n",
    "        \n",
    "        def __init__(self, X, y):\n",
    "            self.X = X\n",
    "            self.y = y\n",
    "          \n",
    "        def x_without_constant(self):\n",
    "            \"\"\"Fetch values for X without the constant column\n",
    "        \n",
    "            :return: values \n",
    "            \"\"\"\n",
    "            \n",
    "            return self.X[:, 1]\n",
    "    \n",
    "    class JorgeVector:\n",
    "        \"\"\" JorgeVector.\n",
    "        Util class used to perform matrix: Transpose, Dot Product operation, Calculate the Determinant and Inverse\n",
    "        \n",
    "        Attributes:\n",
    "        ----------\n",
    "        vector: The vector to the left of the vector operations.\n",
    "        out_predicate: A concatenation of dot products on the original vector \n",
    "        \"\"\"\n",
    "        \n",
    "        def __init__(self, vector):\n",
    "            self.vector = vector\n",
    "            self.out_predicate = []\n",
    "        \n",
    "        def __make_new(self, vector):\n",
    "            return type(self)(vector)\n",
    "        \n",
    "        def dot_vector_append_predicate(self, vector_right):\n",
    "            predicate_to_append = self.__dot_vector(vector_right)\n",
    "            return self.out_predicate.append(predicate_to_append)\n",
    "    \n",
    "        def __dot_vector(self, vector_right):\n",
    "            \"\"\"Perform a dot product of two vectors\n",
    "        \n",
    "            :exception: ValueError - if the two vectors are not the same size\n",
    "            :param vector_right: vector to the right\n",
    "            :return: the result of performing the dot product of the vector on the left and right\n",
    "            \"\"\"\n",
    "            \n",
    "            if len(self.vector) != len(vector_right):\n",
    "                raise ValueError(\"Vectors must be of the same length\")\n",
    "    \n",
    "            return [sum([i*j for (i, j) in zip(self.vector, vector_right)])]\n",
    "            \n",
    "    class JorgeMatrix:\n",
    "        \"\"\" JorgeMatrix.\n",
    "        Util class used to perform matrix: Transpose, Dot Product operation, Calculate the Determinant and Inverse\n",
    "        \n",
    "        Attributes:\n",
    "        matrix: The matrix to the left of the matrix operations.\n",
    "        \"\"\"\n",
    "        \n",
    "        def __init__(self, matrix):\n",
    "            self.matrix = matrix\n",
    "        \n",
    "        @staticmethod\n",
    "        def __round_values_original_code(value):\n",
    "            return round(value, 8)\n",
    "    \n",
    "        def __make_new(self, matrix):\n",
    "            return type(self)(matrix)\n",
    "    \n",
    "        def transpose_matrix(self):\n",
    "            \"\"\"Transpose a matrix.\n",
    "        \n",
    "            :return: a matrix that is transposed\n",
    "            \"\"\"\n",
    "            \n",
    "            return self.__make_new([list(row) for row in zip(*self.matrix)])\n",
    "        \n",
    "        def dot_matrix(self, matrix_right) :\n",
    "            \"\"\"Perform a dot product of two matrix\n",
    "        \n",
    "            Parameters\n",
    "            ----------\n",
    "            :param matrix_right: matrix to the right\n",
    "            :return: the result of performing the dot product of the matrix on the left and right\n",
    "            \"\"\"\n",
    "            \n",
    "            if len(self.matrix[0]) != len(matrix_right):\n",
    "                return ValueError('Matrix size mismatch')\n",
    "            \n",
    "            return self.__make_new([[sum((row[i] * column[i]) for i in range(len(column))) for column in transpose_matrix(matrix_right)] for row in self.matrix])\n",
    "        \n",
    "        @staticmethod\n",
    "        def calculate_determinant_2_x_2(x, x1, y, y1):\n",
    "            \"\"\"Calculate the determinant of a 2 x 2 matrix\n",
    "        \n",
    "            Parameters\n",
    "            ----------\n",
    "            :param x: [0][0] value \n",
    "            :param x1: [0][1] value \n",
    "            :param y: [1][0] value \n",
    "            :param y1: [1][1] value \n",
    "            :exception: ValueError - if the determinant is 0\n",
    "            :return: the determinant of a 2 x 2 matrix\n",
    "            \"\"\"\n",
    "                \n",
    "            determinant = (x * y1) - (x1 * y)\n",
    "            \n",
    "            if determinant == 0:\n",
    "                return ValueError(\"The determinant is 0, the matrix doesn't have an invertible matrix\")\n",
    "            \n",
    "            return determinant\n",
    "        \n",
    "        def calculate_inverse_matrix_2_x_2(self):\n",
    "            \"\"\"Calculate the inverse of a 2 x 2 matrix\n",
    "            \n",
    "            :exception: ValueError - if the input matrix is not 2 x 2\n",
    "            :exception: ValueError - if the matrix does now have an invertible matrix\n",
    "            :return: the determinant of a 2 x 2 matrix\n",
    "            \"\"\"\n",
    "           \n",
    "            if len(self.matrix) != 2:\n",
    "                raise ValueError('Sorry we are only calculating the invert of a 2x2 Matrix')\n",
    "            \n",
    "            x, x1 = self.matrix[0][0], self.matrix[0][1]\n",
    "            y, y1 = self.matrix[1][0], self.matrix[1][1]\n",
    "            \n",
    "            determinant = self.calculate_determinant_2_x_2(x, x1, y, y1)\n",
    "            \n",
    "            return self.__make_new([\n",
    "                [self.__round_values_original_code(y1 / determinant), self.__round_values_original_code(-x1 / determinant)],\n",
    "                [self.__round_values_original_code(-y / determinant), self.__round_values_original_code(x / determinant)]\n",
    "            ])"
   ],
   "outputs": [],
   "execution_count": 500
  },
  {
   "metadata": {
    "ExecuteTime": {
     "end_time": "2024-10-04T17:43:20.497706Z",
     "start_time": "2024-10-04T17:43:20.345518Z"
    }
   },
   "cell_type": "code",
   "source": [
    "try:\n",
    "    \n",
    "    linearEquation = PoorManLinearEquation('lr_data.csv')\n",
    "\n",
    "    input_data = linearEquation.get_input_data()\n",
    "    \n",
    "    predicate = linearEquation.fit_and_predict(input_data, input_data.X)\n",
    "    \n",
    "    plt.scatter(input_data.x_without_constant(), input_data.y, color='green', label='Actual Response')\n",
    "    plt.plot(input_data.x_without_constant(), predicate, color='yellow', label='Estimated regression line')\n",
    "    \n",
    "    plt.xlabel('Explanatory variable - X')\n",
    "    plt.ylabel('Response variable - y')\n",
    "    plt.title('Linear Regression - poor''s man version')\n",
    "    plt.legend()\n",
    "    plt.show()\n",
    "    \n",
    "except ValueError as e:\n",
    "    \n",
    "  print(e) # stop execution if got an error \n",
    "  "
   ],
   "outputs": [
    {
     "data": {
      "text/plain": [
       "<Figure size 640x480 with 1 Axes>"
      ],
      "image/png": "[encoded data removed]"
     },
     "metadata": {},
     "output_type": "display_data"
    }
   ],
   "execution_count": 499
  },
  {
   "cell_type": "markdown",
   "metadata": {},
   "source": [
    "## Reflection"
   ]
  },
  {
   "cell_type": "markdown",
   "metadata": {},
   "source": [
    "Write your reflection in below cell."
   ]
  },
  {
   "metadata": {},
   "cell_type": "raw",
   "source": [
    "* I had a code in place before the rest, so did not get any inspiration from the rest . I see a lot of people are mezmorized by the line I wrote at 2 am \"[list(row) for row in zip(*self.matrix)]\".\n",
    "* love the zip call, it makes life so easy without having to loop things around. \n",
    "* I broke all the actions in to simple cells executions and then added code to validate the result of the original code wiht the result from my broken down actions.\n",
    "* As part of the conversion to class I added \"from __future__ import annotations\" , as i wanted set the return type of the methods and input parameters to make it easy to read the code. \n",
    "* I added some simple validations :\n",
    "                                    1) one for the matrix size when doing the product rule \n",
    "                                    2) another for the determinant that is not zero \n",
    "                                    3) vectors have to be of the same length when doing the dot product \n",
    "                 Note: I could off added more validation all over the place , but again given this is POC no need to go crazy\n",
    "* For the class code i added the comments used by the IDE\n",
    "* For the class i could have decopled more the logic and added another class, in order to add more decopling, but i belive all the main points are present: class, inner class, private methods and public methods, public attributes.\n",
    "* In the real world i would wrap around the arrtibutes to make sure they are not muttated. \n",
    "* I left the broken down code and the class code, just to help the rest to read the code.\n",
    "\n"
   ]
  }
 ],
 "metadata": {
  "kernelspec": {
   "display_name": "Python 3",
   "language": "python",
   "name": "python3"
  },
  "language_info": {
   "codemirror_mode": {
    "name": "ipython",
    "version": 3
   },
   "file_extension": ".py",
   "mimetype": "text/x-python",
   "name": "python",
   "nbconvert_exporter": "python",
   "pygments_lexer": "ipython3",
   "version": "3.8.8"
  }
 },
 "nbformat": 4,
 "nbformat_minor": 2
}
