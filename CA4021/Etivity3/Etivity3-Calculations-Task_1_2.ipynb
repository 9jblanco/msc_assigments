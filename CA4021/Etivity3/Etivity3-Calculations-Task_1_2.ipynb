{
 "cells": [
  {
   "cell_type": "markdown",
   "metadata": {},
   "source": [
    "# Notebook E-tivity 3 CE4021 Task 2"
   ]
  },
  {
   "metadata": {},
   "cell_type": "raw",
   "source": "Student name: jorge blanco"
  },
  {
   "cell_type": "markdown",
   "metadata": {},
   "source": "Student ID: 24246948"
  },
  {
   "metadata": {},
   "cell_type": "markdown",
   "source": "<hr style=\\\"border:2px solid gray\\\"> </hr>"
  },
  {
   "cell_type": "markdown",
   "metadata": {},
   "source": [
    "## Imports"
   ]
  },
  {
   "cell_type": "code",
   "execution_count": null,
   "metadata": {},
   "outputs": [],
   "source": [
    "#None"
   ]
  },
  {
   "cell_type": "markdown",
   "metadata": {},
   "source": [
    "If you believe required imports are missing, please contact your moderator."
   ]
  },
  {
   "metadata": {},
   "cell_type": "markdown",
   "source": "<hr style=\\\"border:2px solid gray\\\"> </hr>"
  },
  {
   "cell_type": "markdown",
   "metadata": {},
   "source": "## Calculations Task 1 + 2"
  },
  {
   "cell_type": "code",
   "metadata": {
    "ExecuteTime": {
     "end_time": "2024-10-20T08:50:14.794949Z",
     "start_time": "2024-10-20T08:50:14.769728Z"
    }
   },
   "source": [
    "\"\"\"\n",
    "Task 1 :\n",
    "\n",
    "1) Expected value : Sum * Probability of the Sum\n",
    "       Sum P(sum)\n",
    "     * 1     1        (1+1)\n",
    "       2     2        (1+2), (2+1)\n",
    "       3     3        (1+3), (3+1), (2+2) \n",
    "       4     4        (1+4), (4+1), (2+3), (3+2)\n",
    "       6     5        (1+5), (5+1), (4+2), (4+2), (3+3)\n",
    "       7     6        (1+6), (6+1), (5+2), (2+5), (4+3), (3+4)\n",
    "       8     5        (2+6), (6+2), (5+3), (3+5), (4+4)\n",
    "       9     4        (3+6), (6+3), (5+4), (4+5)\n",
    "       10    3        (4+6), (6+4), (5+5)\n",
    "       11    2        (6+5), (5+6) \n",
    "       12    1        (6 + 6)\n",
    "       \n",
    " 1) Standard deviation\n",
    " Var(x) =  E (x^2) - E(x)^2 \n",
    " \n",
    " E (x^2) = x^2 * P(x)\n",
    "\"\"\""
   ],
   "outputs": [],
   "execution_count": 118
  },
  {
   "metadata": {
    "ExecuteTime": {
     "end_time": "2024-10-20T16:36:24.513081Z",
     "start_time": "2024-10-20T16:36:24.488481Z"
    }
   },
   "cell_type": "code",
   "source": [
    "sum_probability = 2 * 1 + 3 * 2 + 4 * 3 + 5 * 4 + 6 * 5 + 7 * 6 + 8 * 5 + 9 * 4 + 10 * 3 + 11 * 2 + 12 * 1 \n",
    "print(sum_probability)\n",
    "\n",
    "# 36 is (6 * 6)   -- 252 / 36\n",
    "print(1/36 * sum_probability)"
   ],
   "outputs": [
    {
     "name": "stdout",
     "output_type": "stream",
     "text": [
      "252\n",
      "7.0\n"
     ]
    }
   ],
   "execution_count": 4
  },
  {
   "metadata": {
    "ExecuteTime": {
     "end_time": "2024-10-20T16:57:15.778217Z",
     "start_time": "2024-10-20T16:57:15.758219Z"
    }
   },
   "cell_type": "code",
   "source": [
    "import math\n",
    "\n",
    "sum_e_x_sqr = (2**2 * 1) + (3**2 * 2) + (4**2 * 3) + (5**2 * 4) + (6**2 * 5) + (7**2 * 6) + (8**2 * 5) + (9**2 * 4) + (10**2 * 3) + (11**2 * 2)  + (12**2 * 1) \n",
    "print(sum_e_x_sqr)\n",
    "\n",
    "# E (x^2) \n",
    "print(1/36 * sum_e_x_sqr)\n",
    "\n",
    "#variance\n",
    "print(1/36 * sum_e_x_sqr - (7**2) )\n",
    "\n",
    "#standard deviation\n",
    "sigma_x = math.sqrt(1/36 * sum_e_x_sqr - (7**2))\n",
    "print(sigma_x)"
   ],
   "outputs": [
    {
     "name": "stdout",
     "output_type": "stream",
     "text": [
      "1974\n",
      "54.83333333333333\n",
      "5.833333333333329\n",
      "2.415229457698239\n"
     ]
    }
   ],
   "execution_count": 12
  },
  {
   "metadata": {},
   "cell_type": "code",
   "outputs": [],
   "execution_count": null,
   "source": [
    "\"\"\"\n",
    "Task 2 :\n",
    "\n",
    "# spam of text never seen \n",
    "new_emails = {'spam':['you have never seen me']}\n",
    "spamFilter.predict(new_emails)\n",
    "\n",
    "\n",
    "     P_S = 4 / 7       -> 0.57 - >  log(0.57) -> - 0.56\n",
    "     P_H = 1 - 0.57    -> 0.43 - >  log(0.43) -> - 0.84\n",
    "     \n",
    "     The probability of  P(x | S) or P (s | H) is zero since we have empty objects, as the words are not present in the training set:\n",
    "     \n",
    "     so it is LOG(P_S) > LOG(P_H) for words that are not present in the training set \n",
    "     \n",
    "\"\"\""
   ]
  },
  {
   "metadata": {
    "ExecuteTime": {
     "end_time": "2024-10-20T17:00:59.776452Z",
     "start_time": "2024-10-20T17:00:59.752440Z"
    }
   },
   "cell_type": "code",
   "source": "-0.56 > -0.84",
   "outputs": [
    {
     "data": {
      "text/plain": [
       "True"
      ]
     },
     "execution_count": 13,
     "metadata": {},
     "output_type": "execute_result"
    }
   ],
   "execution_count": 13
  },
  {
   "metadata": {
    "ExecuteTime": {
     "end_time": "2024-10-21T02:20:06.652627Z",
     "start_time": "2024-10-21T02:20:06.572229Z"
    }
   },
   "cell_type": "code",
   "source": [
    "import random\n",
    "\n",
    "def roll_dice():\n",
    "    return random.randint(1, 6)\n",
    "\n",
    "def flip_coin():\n",
    "    return random.choice(['Heads', 'Tails'])\n",
    "\n",
    "def simulate_trials(num_trials):\n",
    "    dice_rolls = [roll_dice() for _ in range(num_trials)]\n",
    "    coin_flips = [flip_coin() for _ in range(num_trials)]\n",
    "    \n",
    "    dice_mean = sum(dice_rolls) / num_trials\n",
    "    heads_count = coin_flips.count('Heads')\n",
    "    tails_count = coin_flips.count('Tails')\n",
    "    coin_mean = heads_count / num_trials  # Probability of getting Heads\n",
    "    \n",
    "    return dice_mean, coin_mean\n",
    "\n",
    "num_trials = 1000  # You can change this number to run more or fewer trials\n",
    "dice_mean, coin_mean = simulate_trials(num_trials)\n",
    "\n",
    "print(f\"Mean of dice rolls: {dice_mean}\")\n",
    "print(f\"Probability of getting Heads: {coin_mean}\")\n"
   ],
   "outputs": [
    {
     "name": "stdout",
     "output_type": "stream",
     "text": [
      "Mean of dice rolls: 3.51\n",
      "Probability of getting Heads: 0.507\n"
     ]
    }
   ],
   "execution_count": 14
  },
  {
   "metadata": {
    "ExecuteTime": {
     "end_time": "2024-10-21T02:23:06.025157Z",
     "start_time": "2024-10-21T02:23:05.994015Z"
    }
   },
   "cell_type": "code",
   "source": [
    "import random\n",
    "\n",
    "def flip_biased_coin(p, n):\n",
    "    heads = 0\n",
    "    tails = 0\n",
    "    \n",
    "    for _ in range(n):\n",
    "        if random.random() < p:\n",
    "            heads += 1\n",
    "        else:\n",
    "            tails += 1\n",
    "    \n",
    "    return heads, tails\n",
    "\n",
    "# Probability of heads\n",
    "p = 0.8\n",
    "\n",
    "# Number of trials\n",
    "n = 1000\n",
    "\n",
    "# Flip the biased coin n times\n",
    "heads, tails = flip_biased_coin(p, n)\n",
    "\n",
    "# Calculate empirical probabilities\n",
    "empirical_p_heads = heads / n\n",
    "empirical_p_tails = tails / n\n",
    "\n",
    "print(f\"Number of heads: {heads}\")\n",
    "print(f\"Number of tails: {tails}\")\n",
    "print(f\"Empirical probability of heads: {empirical_p_heads}\")\n",
    "print(f\"Empirical probability of tails: {empirical_p_tails}\")\n"
   ],
   "outputs": [
    {
     "name": "stdout",
     "output_type": "stream",
     "text": [
      "Number of heads: 611\n",
      "Number of tails: 389\n",
      "Empirical probability of heads: 0.611\n",
      "Empirical probability of tails: 0.389\n"
     ]
    }
   ],
   "execution_count": 15
  },
  {
   "metadata": {
    "ExecuteTime": {
     "end_time": "2024-10-21T21:23:20.001721Z",
     "start_time": "2024-10-21T21:23:19.981321Z"
    }
   },
   "cell_type": "code",
   "source": [
    "import random\n",
    "\n",
    "def mean_dice_roll(n):\n",
    "    total = 0\n",
    "    for _ in range(n):\n",
    "        total += random.choice([1, 2, 2, 3, 4, 4])\n",
    "    return total / n\n",
    "\n",
    "def mean_coin_toss(p, n):\n",
    "    heads = 0\n",
    "    for _ in range(n):\n",
    "        if random.random() < p:\n",
    "            heads += 1\n",
    "    return heads / n\n",
    "\n",
    "# Number of trials\n",
    "n = 1000\n",
    "\n",
    "# Mean dice roll\n",
    "mean_dice = mean_dice_roll(n)\n",
    "print(f\"Mean dice roll over {n} trials: {mean_dice}\")\n",
    "\n",
    "# Probability of heads for coin toss\n",
    "p = 0.8\n",
    "\n",
    "# Mean coin toss\n",
    "mean_coin = mean_coin_toss(p, n)\n",
    "print(f\"Mean coin toss (probability of heads {p}) over {n} trials: {mean_coin}\")"
   ],
   "outputs": [
    {
     "name": "stdout",
     "output_type": "stream",
     "text": [
      "Mean dice roll over 1000 trials: 2.72\n",
      "Mean coin toss (probability of heads 0.8) over 1000 trials: 0.805\n"
     ]
    }
   ],
   "execution_count": 18
  },
  {
   "metadata": {
    "ExecuteTime": {
     "end_time": "2024-10-21T21:32:28.033135Z",
     "start_time": "2024-10-21T21:32:27.987719Z"
    }
   },
   "cell_type": "code",
   "source": [
    "import random\n",
    "import math\n",
    "\n",
    "def mean_dice_roll(n):\n",
    "    rolls = [random.choice([1, 2, 2, 3, 4, 4]) for _ in range(n)]\n",
    "    mean = sum(rolls) / n\n",
    "    variance = sum((x - mean) ** 2 for x in rolls) / n\n",
    "    stddev = math.sqrt(variance)\n",
    "    return mean, stddev\n",
    "\n",
    "def mean_coin_toss(p, n):\n",
    "    tosses = [1 if random.random() < p else 0 for _ in range(n)]\n",
    "    mean = sum(tosses) / n\n",
    "    variance = sum((x - mean) ** 2 for x in tosses) / n\n",
    "    stddev = math.sqrt(variance)\n",
    "    return mean, stddev\n",
    "\n",
    "# Number of trials\n",
    "n = 1000\n",
    "\n",
    "# Mean and standard deviation for dice roll\n",
    "mean_dice, stddev_dice = mean_dice_roll(n)\n",
    "print(f\"Mean dice roll over {n} trials: {mean_dice}\")\n",
    "print(f\"Standard deviation of dice roll over {n} trials: {stddev_dice}\")\n",
    "\n",
    "# Probability of heads for coin toss\n",
    "p = 0.8\n",
    "\n",
    "# Mean and standard deviation for coin toss\n",
    "mean_coin, stddev_coin = mean_coin_toss(p, n)\n",
    "print(f\"Mean coin toss (probability of heads {p}) over {n} trials: {mean_coin}\")\n",
    "print(f\"Standard deviation of coin toss over {n} trials: {stddev_coin}\")\n"
   ],
   "outputs": [
    {
     "name": "stdout",
     "output_type": "stream",
     "text": [
      "Mean dice roll over 1000 trials: 2.668\n",
      "Standard deviation of dice roll over 1000 trials: 1.1223974340669216\n",
      "Mean coin toss (probability of heads 0.8) over 1000 trials: 0.802\n",
      "Standard deviation of coin toss over 1000 trials: 0.39849215801568943\n"
     ]
    }
   ],
   "execution_count": 22
  },
  {
   "metadata": {
    "ExecuteTime": {
     "end_time": "2024-10-21T21:31:08.922231Z",
     "start_time": "2024-10-21T21:31:08.902089Z"
    }
   },
   "cell_type": "code",
   "source": [
    "t = 1/6 + 2*2/6 + 3*1/6 + 4*2/6 + 1/2\n",
    "print(t)"
   ],
   "outputs": [
    {
     "name": "stdout",
     "output_type": "stream",
     "text": [
      "3.1666666666666665\n"
     ]
    }
   ],
   "execution_count": 21
  },
  {
   "metadata": {},
   "cell_type": "code",
   "outputs": [],
   "execution_count": null,
   "source": [
    "import random\n",
    "import math\n",
    "\n",
    "def mean_dice_roll(n):\n",
    "    rolls = [random.randint(1, 6) for _ in range(n)]\n",
    "    mean = sum(rolls) / n\n",
    "    variance = sum((x - mean) ** 2 for x in rolls) / n\n",
    "    stddev = math.sqrt(variance)\n",
    "    return mean, stddev\n",
    "\n",
    "def mean_coin_toss(p, n):\n",
    "    tosses = [1 if random.random() < p else 0 for _ in range(n)]\n",
    "    mean = sum(tosses) / n\n",
    "    variance = sum((x - mean) ** 2 for x in tosses) / n\n",
    "    stddev = math.sqrt(variance)\n",
    "    return mean, stddev\n",
    "\n",
    "# Number of trials\n",
    "n = 1000\n",
    "\n",
    "# Mean and standard deviation for dice roll\n",
    "mean_dice, stddev_dice = mean_dice_roll(n)\n",
    "print(f\"Mean dice roll over {n} trials: {mean_dice}\")\n",
    "print(f\"Standard deviation of dice roll over {n} trials: {stddev_dice}\")\n",
    "\n",
    "# Probability of heads for coin toss\n",
    "p = 0.5\n",
    "\n",
    "# Mean and standard deviation for coin toss\n",
    "mean_coin, stddev_coin = mean_coin_toss(p, n)\n",
    "print(f\"Mean coin toss (probability of heads {p}) over {n} trials: {mean_coin}\")\n",
    "print(f\"Standard deviation of coin toss over {n} trials: {stddev_coin}\")\n"
   ]
  },
  {
   "cell_type": "markdown",
   "metadata": {},
   "source": [
    "<hr style=\\\"border:2px solid gray\\\"> </hr>"
   ]
  }
 ],
 "metadata": {
  "kernelspec": {
   "display_name": "Python 3",
   "language": "python",
   "name": "python3"
  },
  "language_info": {
   "codemirror_mode": {
    "name": "ipython",
    "version": 3
   },
   "file_extension": ".py",
   "mimetype": "text/x-python",
   "name": "python",
   "nbconvert_exporter": "python",
   "pygments_lexer": "ipython3",
   "version": "3.8.8"
  }
 },
 "nbformat": 4,
 "nbformat_minor": 2
}
